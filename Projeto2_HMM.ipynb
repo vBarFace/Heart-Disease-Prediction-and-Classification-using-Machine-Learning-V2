{
  "cells": [
    {
      "cell_type": "code",
      "execution_count": null,
      "id": "b35cd01c",
      "metadata": {
        "id": "b35cd01c"
      },
      "outputs": [],
      "source": [
        "#pip uninstall numpy\n",
        "#pip install numpy"
      ]
    },
    {
      "cell_type": "code",
      "execution_count": 1,
      "id": "2ceaa3e0",
      "metadata": {
        "colab": {
          "base_uri": "https://localhost:8080/"
        },
        "id": "2ceaa3e0",
        "outputId": "0519101c-c510-44c8-c4df-01878b48e425"
      },
      "outputs": [
        {
          "output_type": "stream",
          "name": "stdout",
          "text": [
            "Looking in indexes: https://pypi.org/simple, https://us-python.pkg.dev/colab-wheels/public/simple/\n",
            "Collecting pomegranate\n",
            "  Downloading pomegranate-0.14.8.tar.gz (4.3 MB)\n",
            "\u001b[K     |████████████████████████████████| 4.3 MB 8.2 MB/s \n",
            "\u001b[?25h  Installing build dependencies ... \u001b[?25l\u001b[?25hdone\n",
            "  Getting requirements to build wheel ... \u001b[?25l\u001b[?25hdone\n",
            "    Preparing wheel metadata ... \u001b[?25l\u001b[?25hdone\n",
            "Requirement already satisfied: numpy>=1.20.0 in /usr/local/lib/python3.7/dist-packages (from pomegranate) (1.21.6)\n",
            "Requirement already satisfied: pyyaml in /usr/local/lib/python3.7/dist-packages (from pomegranate) (3.13)\n",
            "Requirement already satisfied: scipy>=0.17.0 in /usr/local/lib/python3.7/dist-packages (from pomegranate) (1.4.1)\n",
            "Requirement already satisfied: joblib>=0.9.0b4 in /usr/local/lib/python3.7/dist-packages (from pomegranate) (1.1.0)\n",
            "Requirement already satisfied: networkx>=2.4 in /usr/local/lib/python3.7/dist-packages (from pomegranate) (2.6.3)\n",
            "Building wheels for collected packages: pomegranate\n",
            "  Building wheel for pomegranate (PEP 517) ... \u001b[?25l\u001b[?25hdone\n",
            "  Created wheel for pomegranate: filename=pomegranate-0.14.8-cp37-cp37m-linux_x86_64.whl size=15068165 sha256=0a70b97d7d8e08df724a5fd2f1a9bd4943de59b96e1940ed29a7972011fc7d6f\n",
            "  Stored in directory: /root/.cache/pip/wheels/24/68/69/0eaab474ef1d65abedcd47de8a38ab21d221d329954d7edd24\n",
            "Successfully built pomegranate\n",
            "Installing collected packages: pomegranate\n",
            "Successfully installed pomegranate-0.14.8\n"
          ]
        }
      ],
      "source": [
        "# Imports\n",
        "\n",
        "# Import Classification Parameters\n",
        "from sklearn.metrics import confusion_matrix,precision_recall_curve,auc,roc_auc_score,roc_curve,recall_score,classification_report\n",
        "# Import warnings filter\n",
        "import warnings\n",
        "# Data Reader\n",
        "import pandas as pd\n",
        "# Train and Test split\n",
        "from sklearn.model_selection import train_test_split\n",
        "#Models\n",
        "from sklearn.linear_model import LogisticRegression\n",
        "# Plot\n",
        "import matplotlib.pyplot as plt\n",
        "# Import of Numpy\n",
        "import numpy\n",
        "\n",
        "%matplotlib inline\n",
        "%pip install pomegranate\n",
        "\n",
        "import matplotlib.pyplot as plt\n",
        "import seaborn; seaborn.set_style('whitegrid')\n",
        "\n",
        "from pomegranate import *\n",
        "\n",
        "numpy.random.seed(0)\n",
        "numpy.set_printoptions(suppress=True)"
      ]
    },
    {
      "cell_type": "code",
      "execution_count": 2,
      "id": "f52ad2b7",
      "metadata": {
        "id": "f52ad2b7"
      },
      "outputs": [],
      "source": [
        "# ignore all future warnings\n",
        "warnings.filterwarnings('ignore',category=FutureWarning)\n",
        "warnings.filterwarnings('ignore',category=DeprecationWarning)\n",
        "warnings.filterwarnings('ignore',category=Warning)"
      ]
    },
    {
      "cell_type": "code",
      "execution_count": 3,
      "id": "ac32ba4a",
      "metadata": {
        "id": "ac32ba4a"
      },
      "outputs": [],
      "source": [
        "# Import the data set\n",
        "df = pd.read_csv('dataset.csv')\n",
        "X = df.iloc[:, [0, 1, 2, 3, 4, 5, 6, 7, 8, 9, 10, 11, 12]].values # Aqui temos as features\n",
        "y = df.iloc[:, -1].values # Aqui temos a condição\n"
      ]
    },
    {
      "cell_type": "markdown",
      "id": "CZbpGDn_Bi-9",
      "metadata": {
        "id": "CZbpGDn_Bi-9"
      },
      "source": [
        "# Nova secção"
      ]
    },
    {
      "cell_type": "code",
      "execution_count": 4,
      "id": "3012007f",
      "metadata": {
        "colab": {
          "base_uri": "https://localhost:8080/"
        },
        "id": "3012007f",
        "outputId": "03c92d40-ff30-48a4-f6c0-5d85845ba52b"
      },
      "outputs": [
        {
          "output_type": "stream",
          "name": "stdout",
          "text": [
            "Shape da Hidden Layer:  (296,)\n",
            "Shape da Observation Layer:  (296, 3)\n"
          ]
        }
      ],
      "source": [
        "# hidden_layer (condition) |  v1,v2,v3\n",
        "#            1             |    000\n",
        "#            0             |    121\n",
        "#           ...            |    ...\n",
        "\n",
        "hidden_layer = df.iloc[:, -1].values # Aqui temos as hidden layers\n",
        "print(\"Shape da Hidden Layer: \", hidden_layer.shape)\n",
        "\n",
        "obs_imp = df.iloc[:, [1,11,12]].values # Aqui temos as observation layers com maior importancia\n",
        "print(\"Shape da Observation Layer: \", obs_imp.shape)"
      ]
    },
    {
      "cell_type": "code",
      "execution_count": 5,
      "id": "653f87ea",
      "metadata": {
        "colab": {
          "base_uri": "https://localhost:8080/"
        },
        "id": "653f87ea",
        "outputId": "6a6a4d9b-a47b-4b8f-9515-b2471a7e466d"
      },
      "outputs": [
        {
          "output_type": "stream",
          "name": "stdout",
          "text": [
            "Feature: 0, Score: 0.00499\n",
            "Feature: 1, Score: 0.49400\n",
            "Feature: 2, Score: 0.28289\n",
            "Feature: 3, Score: 0.01929\n",
            "Feature: 4, Score: 0.00386\n",
            "Feature: 5, Score: -0.09167\n",
            "Feature: 6, Score: 0.19371\n",
            "Feature: 7, Score: -0.02304\n",
            "Feature: 8, Score: 0.26940\n",
            "Feature: 9, Score: 0.34504\n",
            "Feature: 10, Score: 0.31220\n",
            "Feature: 11, Score: 0.68902\n",
            "Feature: 12, Score: 0.61421\n"
          ]
        }
      ],
      "source": [
        "#########################################   Logistic Regression  #############################################################\n",
        "\n",
        "# Data Split\n",
        "X_train, X_test, y_train, y_test = train_test_split(X, y, test_size=0.2, random_state=0)\n",
        "\n",
        "# Model and Fitting\n",
        "classifier = LogisticRegression(C=0.1,penalty='l2',solver='newton-cg')# best parameters from LogReg_best_parameters.py\n",
        "classifier.fit(X_train, y_train)\n",
        "\n",
        "importance = classifier.coef_[0]\n",
        "# summarize feature importance\n",
        "for i,obs_imp in enumerate(importance):\n",
        "    print('Feature: %0d, Score: %.5f' % (i,obs_imp))\n",
        "    \n",
        "# As features mais importantes estão com TAB:\n",
        "\n",
        "# Feature: 0, Score: 0.00499 -> Que é: age[numbers]\n",
        "    # Feature: 1, Score: 0.49400 -> Que é: sex[0, 1] -> Categorização: 0 = female; 1 = male\n",
        "# Feature: 2, Score: 0.28289 -> Que é: cp[1, 2, 3, 4]\n",
        "# Feature: 3, Score: 0.01929 -> Que é: trestbps[numbers]\n",
        "# Feature: 4, Score: 0.00386 -> Que é: chol[numbers]\n",
        "# Feature: 5, Score: -0.09167 -> Que é: fbs[0, 1]\n",
        "# Feature: 6, Score: 0.19371 -> Que é: restecg[0, 1, 2]\n",
        "# Feature: 7, Score: -0.02304 -> Que é: thalach[numbers]\n",
        "# Feature: 8, Score: 0.26940 -> Que é: exang[0, 1]\n",
        "# Feature: 9, Score: 0.34504 -> Que é: oldpeak[numbers]\n",
        "# Feature: 10, Score: 0.31220 -> Que é: slope[1, 2, 3]\n",
        "    # Feature: 11, Score: 0.68902 -> Que é: ca [0,1,2,3] -> \n",
        "    # Feature: 12, Score: 0.61421 -> Que é: thal [0,1,2] -> Categorização: 0 = normal; 1 = fixed defect; 2 = reversable defect"
      ]
    },
    {
      "cell_type": "code",
      "execution_count": 6,
      "id": "0366d86f",
      "metadata": {
        "colab": {
          "base_uri": "https://localhost:8080/"
        },
        "id": "0366d86f",
        "outputId": "02331c75-013c-41e8-83f7-bc39d3a1a55f"
      },
      "outputs": [
        {
          "output_type": "stream",
          "name": "stdout",
          "text": [
            "---''---\n",
            "Número de vezes que aparece 0:  159\n",
            "A sua probabilidade: 0.54\n",
            "Número de vezes que aparece 1:  137\n",
            "A sua probabilidade: 0.46\n",
            "---''---\n",
            "Número de vezes que aparece a sequencia 00:  107\n",
            "Número de vezes que aparece a sequencia 01:  52\n",
            "Número de vezes que aparece a sequencia 10:  51\n",
            "Número de vezes que aparece a sequencia 11:  85\n",
            "Número de elementos de comparação para hiddenLayer:  295\n",
            "---''---\n",
            "Probabilidade de 00: 0.67\n",
            "Probabilidade de 01: 0.33\n",
            "Probabilidade de 10: 0.38\n",
            "Probabilidade de 11: 0.62\n"
          ]
        }
      ],
      "source": [
        "# Probabilidades Hidden Layers\n",
        "\n",
        "# São as variáveis que vão contar quantas vezes aparecem na coluna das hidden layers:\n",
        "count01 = 0; # Aparece 01 seguidos\n",
        "count10 = 0; # Aparece 10 seguidos\n",
        "count00 = 0; # Aparece 00 seguidos\n",
        "count11 = 0; # Aparece 10 seguidos\n",
        "\n",
        "# São as variáveis que vão contar quantas vezes aparecem na coluna das hidden layers:\n",
        "count1 = 0; # Aparece 1's seguidos\n",
        "count0 = 0; # Aparece 0's seguidos\n",
        "\n",
        "# Ciclo for que vai percorrer os índices da coluna das hidden layers.\n",
        "for i in range(0,295):\n",
        "    if(hidden_layer[i]==0 and hidden_layer[i+1]==1): # Aparece 01 seguidos\n",
        "        count01 += 1;\n",
        "    elif(hidden_layer[i]==1 and hidden_layer[i+1]==0): # Aparece 10 seguidos\n",
        "        count10 += 1;\n",
        "    elif(hidden_layer[i]==0 and hidden_layer[i+1]==0): # Aparece 00 seguidos\n",
        "        count00 += 1;\n",
        "    elif(hidden_layer[i]==1 and hidden_layer[i+1]==1): # Aparece 10 seguidos\n",
        "        count11 += 1;\n",
        "        \n",
        "# Ciclo for que vai percorrer os índices da coluna das hidden layers.\n",
        "for j in range(0,296):\n",
        "    if(hidden_layer[j]==0): # Aparece 0\n",
        "        count0 += 1;\n",
        "    elif(hidden_layer[j]==1): # Aparece 1\n",
        "        count1 += 1;\n",
        "\n",
        "n_elem_comp_hiddenLayer = count00+count10+count01+count11\n",
        "\n",
        "print(\"---''---\")\n",
        "\n",
        "print(\"Número de vezes que aparece 0: \",count0)\n",
        "probabilidade_0 = count0 / (n_elem_comp_hiddenLayer + 1)\n",
        "print(\"A sua probabilidade: %.2f\" % probabilidade_0)\n",
        "print(\"Número de vezes que aparece 1: \",count1)\n",
        "probabilidade_1 = count1 / (n_elem_comp_hiddenLayer + 1)\n",
        "print(\"A sua probabilidade: %.2f\" % probabilidade_1)\n",
        "\n",
        "print(\"---''---\")\n",
        "print(\"Número de vezes que aparece a sequencia 00: \",count00)\n",
        "print(\"Número de vezes que aparece a sequencia 01: \",count01)\n",
        "print(\"Número de vezes que aparece a sequencia 10: \",count10)\n",
        "print(\"Número de vezes que aparece a sequencia 11: \",count11)\n",
        "print(\"Número de elementos de comparação para hiddenLayer: \",n_elem_comp_hiddenLayer)\n",
        "\n",
        "print(\"---''---\")\n",
        "n_total = 295\n",
        "probabilidade_00 = count00 / (count00 + count01)\n",
        "probabilidade_01 = count01 / (count00 + count01)\n",
        "probabilidade_10 = count10 / (count11 + count10)\n",
        "probabilidade_11 = count11 / (count11 + count10)\n",
        "\n",
        "print(\"Probabilidade de 00: %.2f\" % probabilidade_00)\n",
        "print(\"Probabilidade de 01: %.2f\" % probabilidade_01)\n",
        "print(\"Probabilidade de 10: %.2f\" % probabilidade_10)\n",
        "print(\"Probabilidade de 11: %.2f\" % probabilidade_11)"
      ]
    },
    {
      "cell_type": "code",
      "execution_count": 7,
      "id": "01960cb4",
      "metadata": {
        "colab": {
          "base_uri": "https://localhost:8080/"
        },
        "id": "01960cb4",
        "outputId": "dc8fb706-0612-40b6-8c10-fdabf350be98"
      },
      "outputs": [
        {
          "output_type": "stream",
          "name": "stdout",
          "text": [
            "     sex  ca  thal\n",
            "0      1   1     0\n",
            "1      1   1     0\n",
            "2      1   2     0\n",
            "3      1   0     2\n",
            "4      1   0     0\n",
            "..   ...  ..   ...\n",
            "133    1   0     2\n",
            "134    1   0     2\n",
            "135    1   0     2\n",
            "136    1   0     2\n",
            "137    1   0     2\n",
            "\n",
            "[138 rows x 3 columns]\n",
            "{'1:1:0': 'A', '1:2:0': 'B', '1:0:2': 'C', '1:0:0': 'D', '1:3:1': 'E', '1:1:2': 'F', '0:2:0': 'G', '0:1:0': 'H', '1:3:2': 'I', '0:1:2': 'J', '1:1:1': 'K', '1:2:2': 'L', '1:3:0': 'M', '0:2:2': 'N', '0:3:2': 'O', '1:2:1': 'P', '0:0:0': 'Q', '0:3:0': 'R', '0:0:2': 'S', '0:2:1': 'T', '1:0:1': 'U'}\n",
            "{'A': '1:1:0', 'B': '1:2:0', 'C': '1:0:2', 'D': '1:0:0', 'E': '1:3:1', 'F': '1:1:2', 'G': '0:2:0', 'H': '0:1:0', 'I': '1:3:2', 'J': '0:1:2', 'K': '1:1:1', 'L': '1:2:2', 'M': '1:3:0', 'N': '0:2:2', 'O': '0:3:2', 'P': '1:2:1', 'Q': '0:0:0', 'R': '0:3:0', 'S': '0:0:2', 'T': '0:2:1', 'U': '1:0:1'}\n"
          ]
        }
      ],
      "source": [
        "dkl1 = {}\n",
        "dlk1 = {}\n",
        "\n",
        "letter = '@'\n",
        "df1 = pd.read_csv('label1_trans.csv',sep=',')[['sex','ca','thal']]\n",
        "print(df1)\n",
        "\n",
        "df1['key'] = \"\"\n",
        "df1['letter'] = \"\"\n",
        "\n",
        "for idx,row in df1.iterrows():\n",
        "    key = str(row['sex']) + \":\" + str(row['ca']) + \":\" + str(row['thal'])\n",
        "    \n",
        "    if(key not in dkl1.keys()):\n",
        "        letter = chr(ord(letter)+1)\n",
        "        dkl1[key] = letter\n",
        "        L = letter\n",
        "    else:\n",
        "        L = dkl1[key]\n",
        "        \n",
        "    dlk1[L] = key    \n",
        "    df1['key'] = key\n",
        "    df1['letter'] = L\n",
        "\n",
        "print(dkl1)\n",
        "print(dlk1)"
      ]
    },
    {
      "cell_type": "code",
      "execution_count": 8,
      "id": "da32f1e4",
      "metadata": {
        "colab": {
          "base_uri": "https://localhost:8080/"
        },
        "id": "da32f1e4",
        "outputId": "2b7feeb7-f523-4ee2-b7f3-b311c38d0da2"
      },
      "outputs": [
        {
          "output_type": "stream",
          "name": "stdout",
          "text": [
            "Observáveis quando a Hidden Layer é igual a 1.\n",
            "\n",
            "Observável: [0 0 0]\n",
            "Aparições: 6\n",
            "Probabilidade: (6/137) = 0.04380\n",
            "\n",
            "Observável: [0 0 2]\n",
            "Aparições: 4\n",
            "Probabilidade: (4/137) = 0.02920\n",
            "\n",
            "Observável: [0 1 0]\n",
            "Aparições: 1\n",
            "Probabilidade: (1/137) = 0.00730\n",
            "\n",
            "Observável: [0 1 2]\n",
            "Aparições: 2\n",
            "Probabilidade: (2/137) = 0.01460\n",
            "\n",
            "Observável: [0 2 0]\n",
            "Aparições: 3\n",
            "Probabilidade: (3/137) = 0.02190\n",
            "\n",
            "Observável: [0 2 1]\n",
            "Aparições: 1\n",
            "Probabilidade: (1/137) = 0.00730\n",
            "\n",
            "Observável: [0 2 2]\n",
            "Aparições: 4\n",
            "Probabilidade: (4/137) = 0.02920\n",
            "\n",
            "Observável: [0 3 0]\n",
            "Aparições: 1\n",
            "Probabilidade: (1/137) = 0.00730\n",
            "\n",
            "Observável: [0 3 2]\n",
            "Aparições: 3\n",
            "Probabilidade: (3/137) = 0.02190\n",
            "\n",
            "Observável: [1 0 0]\n",
            "Aparições: 7\n",
            "Probabilidade: (7/137) = 0.05109\n",
            "\n",
            "Observável: [1 0 1]\n",
            "Aparições: 2\n",
            "Probabilidade: (2/137) = 0.01460\n",
            "\n",
            "Observável: [1 0 2]\n",
            "Aparições: 26\n",
            "Probabilidade: (26/137) = 0.18978\n",
            "\n",
            "Observável: [1 1 0]\n",
            "Aparições: 11\n",
            "Probabilidade: (11/137) = 0.08029\n",
            "\n",
            "Observável: [1 1 1]\n",
            "Aparições: 4\n",
            "Probabilidade: (4/137) = 0.02920\n",
            "\n",
            "Observável: [1 1 2]\n",
            "Aparições: 26\n",
            "Probabilidade: (26/137) = 0.18978\n",
            "\n",
            "Observável: [1 2 0]\n",
            "Aparições: 4\n",
            "Probabilidade: (4/137) = 0.02920\n",
            "\n",
            "Observável: [1 2 1]\n",
            "Aparições: 3\n",
            "Probabilidade: (3/137) = 0.02190\n",
            "\n",
            "Observável: [1 2 2]\n",
            "Aparições: 16\n",
            "Probabilidade: (16/137) = 0.11679\n",
            "\n",
            "Observável: [1 3 0]\n",
            "Aparições: 4\n",
            "Probabilidade: (4/137) = 0.02920\n",
            "\n",
            "Observável: [1 3 1]\n",
            "Aparições: 2\n",
            "Probabilidade: (2/137) = 0.01460\n",
            "\n",
            "Observável: [1 3 2]\n",
            "Aparições: 7\n",
            "Probabilidade: (7/137) = 0.05109\n",
            "\n",
            "\n",
            "A probabildiade total: 1.0\n",
            "Existem  21 obseváveis no total.\n",
            "{'Q': 0.043795620437956206, 'S': 0.029197080291970802, 'H': 0.0072992700729927005, 'J': 0.014598540145985401, 'G': 0.021897810218978103, 'T': 0.0072992700729927005, 'N': 0.029197080291970802, 'R': 0.0072992700729927005, 'O': 0.021897810218978103, 'D': 0.051094890510948905, 'U': 0.014598540145985401, 'C': 0.1897810218978102, 'A': 0.08029197080291971, 'K': 0.029197080291970802, 'F': 0.1897810218978102, 'B': 0.029197080291970802, 'P': 0.021897810218978103, 'L': 0.11678832116788321, 'M': 0.029197080291970802, 'E': 0.014598540145985401, 'I': 0.051094890510948905}\n"
          ]
        }
      ],
      "source": [
        "# Vamos buscar os observáveis que aparecem quando a hidden layer é = 1\n",
        "dTrans1 = {}\n",
        "hidden_layer_is_1 = pd.read_csv('label1.csv')\n",
        "hidden_layer1 = hidden_layer_is_1.iloc[:, [0,1, 2]].values\n",
        "\n",
        "print(\"Observáveis quando a Hidden Layer é igual a 1.\\n\")\n",
        "\n",
        "(unique1, counts1) = numpy.unique(hidden_layer1, return_counts=True, axis=0)\n",
        "\n",
        "probabilidade1 = 0\n",
        "probabilidade_total1 = 0\n",
        "probabilidades_de_1 = []\n",
        "\n",
        "for i in range(len(unique1)):\n",
        "    key = ':'.join([str(x) for x in unique1[i]])\n",
        "    letter = dkl1[key]\n",
        "    \n",
        "    print(\"Observável:\", unique1[i],)\n",
        "    print(\"Aparições:\", counts1[i])\n",
        "    probabilidade1 = counts1[i] / count1\n",
        "    probabilidades_de_1.append(probabilidade1)\n",
        "    print(\"Probabilidade: (%d/%d) = %.5f\\n\" % (counts1[i], count1, probabilidade1))\n",
        "    probabilidade_total1 = probabilidade_total1 + probabilidade1\n",
        "    \n",
        "    dTrans1[letter] = probabilidade1\n",
        "    \n",
        "print(\"\\nA probabildiade total: %.1f\" % probabilidade_total1)\n",
        "print(\"Existem \", len(unique1), \"obseváveis no total.\")\n",
        "\n",
        "print(dTrans1)"
      ]
    },
    {
      "cell_type": "code",
      "execution_count": 9,
      "id": "6d514e4a",
      "metadata": {
        "colab": {
          "base_uri": "https://localhost:8080/"
        },
        "id": "6d514e4a",
        "outputId": "fef201a0-79c1-41c1-db78-3488862fe4c8"
      },
      "outputs": [
        {
          "output_type": "stream",
          "name": "stdout",
          "text": [
            "     sex  ca  thal\n",
            "0      1   1     0\n",
            "1      0   2     0\n",
            "2      0   0     0\n",
            "3      1   0     0\n",
            "4      1   0     2\n",
            "..   ...  ..   ...\n",
            "155    1   0     0\n",
            "156    1   0     2\n",
            "157    0   0     0\n",
            "158    1   0     0\n",
            "159    0   0     0\n",
            "\n",
            "[160 rows x 3 columns]\n",
            "{'1:1:0': 'A', '0:2:0': 'B', '0:0:0': 'C', '1:0:0': 'D', '1:0:2': 'E', '1:0:1': 'F', '1:2:0': 'G', '0:1:0': 'H', '1:1:2': 'I', '0:0:2': 'J', '1:3:2': 'K', '1:3:0': 'L'}\n",
            "{'A': '1:1:0', 'B': '0:2:0', 'C': '0:0:0', 'D': '1:0:0', 'E': '1:0:2', 'F': '1:0:1', 'G': '1:2:0', 'H': '0:1:0', 'I': '1:1:2', 'J': '0:0:2', 'K': '1:3:2', 'L': '1:3:0'}\n"
          ]
        }
      ],
      "source": [
        "\n",
        "dkl = {}\n",
        "dlk = {}\n",
        "\n",
        "letter = '@'\n",
        "df = pd.read_csv('label0_trans.csv',sep=',')[['sex','ca','thal']]\n",
        "print(df)\n",
        "\n",
        "df['key'] = \"\"\n",
        "df['letter'] = \"\"\n",
        "\n",
        "for idx,row in df.iterrows():\n",
        "    key = str(row['sex']) + \":\" + str(row['ca']) + \":\" + str(row['thal'])\n",
        "    \n",
        "    if(key not in dkl.keys()):\n",
        "        letter = chr(ord(letter)+1)\n",
        "        dkl[key] = letter\n",
        "        L = letter\n",
        "    else:\n",
        "        L = dkl[key]\n",
        "        \n",
        "    dlk[L] = key    \n",
        "    df['key'] = key\n",
        "    df['letter'] = L\n",
        "\n",
        "print(dkl)\n",
        "print(dlk)"
      ]
    },
    {
      "cell_type": "code",
      "execution_count": 10,
      "id": "d721fc76",
      "metadata": {
        "colab": {
          "base_uri": "https://localhost:8080/"
        },
        "id": "d721fc76",
        "outputId": "ff48b1f4-8ba7-45aa-b6da-d47c48659ecb"
      },
      "outputs": [
        {
          "output_type": "stream",
          "name": "stdout",
          "text": [
            "Observáveis quando a Hidden Layer é igual a 0.\n",
            "\n",
            "Observável: [0 0 0]\n",
            "Aparições: 52\n",
            "Probabilidade: (52/159) = 0.32704\n",
            "\n",
            "Observável: [0 0 2]\n",
            "Aparições: 2\n",
            "Probabilidade: (2/159) = 0.01258\n",
            "\n",
            "Observável: [0 1 0]\n",
            "Aparições: 12\n",
            "Probabilidade: (12/159) = 0.07547\n",
            "\n",
            "Observável: [0 2 0]\n",
            "Aparições: 5\n",
            "Probabilidade: (5/159) = 0.03145\n",
            "\n",
            "Observável: [1 0 0]\n",
            "Aparições: 50\n",
            "Probabilidade: (50/159) = 0.31447\n",
            "\n",
            "Observável: [1 0 1]\n",
            "Aparições: 6\n",
            "Probabilidade: (6/159) = 0.03774\n",
            "\n",
            "Observável: [1 0 2]\n",
            "Aparições: 19\n",
            "Probabilidade: (19/159) = 0.11950\n",
            "\n",
            "Observável: [1 1 0]\n",
            "Aparições: 4\n",
            "Probabilidade: (4/159) = 0.02516\n",
            "\n",
            "Observável: [1 1 2]\n",
            "Aparições: 4\n",
            "Probabilidade: (4/159) = 0.02516\n",
            "\n",
            "Observável: [1 2 0]\n",
            "Aparições: 2\n",
            "Probabilidade: (2/159) = 0.01258\n",
            "\n",
            "Observável: [1 3 0]\n",
            "Aparições: 1\n",
            "Probabilidade: (1/159) = 0.00629\n",
            "\n",
            "Observável: [1 3 2]\n",
            "Aparições: 2\n",
            "Probabilidade: (2/159) = 0.01258\n",
            "\n",
            "\n",
            "A probabildiade total: 1.0\n",
            "Existem  12 obseváveis no total.\n",
            "{'C': 0.3270440251572327, 'J': 0.012578616352201259, 'H': 0.07547169811320754, 'B': 0.031446540880503145, 'D': 0.31446540880503143, 'F': 0.03773584905660377, 'E': 0.11949685534591195, 'A': 0.025157232704402517, 'I': 0.025157232704402517, 'G': 0.012578616352201259, 'L': 0.006289308176100629, 'K': 0.012578616352201259}\n"
          ]
        }
      ],
      "source": [
        "# Vamos buscar os observáveis que aparecem quando a hidden layer é = 0\n",
        "dTrans0 = {}\n",
        "hidden_layer_is_0 = pd.read_csv('label0.csv')\n",
        "hidden_layer0 = hidden_layer_is_0.iloc[:, [0,1, 2]].values\n",
        "\n",
        "print(\"Observáveis quando a Hidden Layer é igual a 0.\\n\")\n",
        "\n",
        "(unique0, counts0) = numpy.unique(hidden_layer0, return_counts=True, axis=0)\n",
        "\n",
        "probabilidade0 = 0\n",
        "probabilidade_total0 = 0\n",
        "probabilidades_de_0 = []\n",
        "\n",
        "for i in range(len(unique0)):\n",
        "    key = ':'.join([str(x) for x in unique0[i]])\n",
        "    letter = dkl[key]\n",
        "    \n",
        "    print(\"Observável:\", unique0[i],)\n",
        "    print(\"Aparições:\", counts0[i])\n",
        "    probabilidade0 = counts0[i] / count0\n",
        "    probabilidades_de_0.append(probabilidade0)\n",
        "    print(\"Probabilidade: (%d/%d) = %.5f\\n\" % (counts0[i], count0, probabilidade0))\n",
        "    probabilidade_total0 = probabilidade_total0 + probabilidade0\n",
        "    \n",
        "    dTrans0[letter] = probabilidade0\n",
        "    \n",
        "print(\"\\nA probabildiade total: %.1f\" % probabilidade_total0)\n",
        "print(\"Existem \", len(unique0), \"obseváveis no total.\")\n",
        "\n",
        "print(dTrans0)\n",
        "\n",
        "\n"
      ]
    },
    {
      "cell_type": "code",
      "execution_count": 11,
      "id": "4d1db554",
      "metadata": {
        "id": "4d1db554"
      },
      "outputs": [],
      "source": [
        "d0 = DiscreteDistribution({'A': 0.025157232704402517, 'B': 0.031446540880503145, 'C': 0.3270440251572327, 'D' : 0.31446540880503143,\n",
        "                           'E':0.11949685534591195, 'F' : 0.03773584905660377, 'G' : 0.012578616352201259,'H': 0.07547169811320754,\n",
        "                           'J': 0.025157232704402517,'K': 0.012578616352201259, 'L': 0.012578616352201259, 'P': 0.006289308176100629})\n",
        "\n",
        "d1 = DiscreteDistribution({'Q': 0.043795620437956206, 'S': 0.029197080291970802, 'H': 0.0072992700729927005, 'J': 0.014598540145985401, \n",
        "                            'G': 0.021897810218978103, 'T': 0.0072992700729927005, 'N': 0.029197080291970802, 'R': 0.0072992700729927005, \n",
        "                            'O': 0.021897810218978103, 'D': 0.051094890510948905, 'U': 0.014598540145985401, 'C': 0.1897810218978102, \n",
        "                            'A': 0.08029197080291971, 'K': 0.029197080291970802, 'F': 0.1897810218978102, 'B': 0.029197080291970802, \n",
        "                            'P': 0.021897810218978103, 'L': 0.11678832116788321, 'M': 0.029197080291970802, 'E': 0.014598540145985401, \n",
        "                            'I': 0.051094890510948905})\n",
        "\n",
        "\n",
        "s0 = State(d0, name='non-disease')\n",
        "s1 = State(d1, name='disease')"
      ]
    },
    {
      "cell_type": "code",
      "execution_count": 14,
      "id": "6e0bd1cf",
      "metadata": {
        "id": "6e0bd1cf"
      },
      "outputs": [],
      "source": [
        "model = HiddenMarkovModel()\n",
        "model.add_states( [s0, s1] )\n",
        "model.add_transition( model.start, s0, 0.46)\n",
        "model.add_transition( model.start, s1, 0.54)\n",
        "model.add_transition( s0, s1,probabilidade_10)\n",
        "model.add_transition( s1,s0, probabilidade_01)\n",
        "model.add_transition( s1,s1, probabilidade_00)\n",
        "model.add_transition( s0,s0, probabilidade_11)\n",
        "model.bake()"
      ]
    },
    {
      "cell_type": "code",
      "source": [
        "seq0 = 'QSJNONJH'\n",
        "\n",
        "seq = numpy.array(list(seq0))\n",
        "\n",
        "hmm_predictions = model.predict(seq)\n",
        "\n",
        "print(\"sequence: {}\".format(''.join(seq)))\n",
        "print(\"hmm pred: {}\".format(''.join(map( str, hmm_predictions))))\n",
        "\n",
        "print(model.predict_proba(seq))"
      ],
      "metadata": {
        "colab": {
          "base_uri": "https://localhost:8080/"
        },
        "id": "DmkQydhJS5gi",
        "outputId": "c9dc1c7b-8593-4e68-9242-eb5d7a85f1c3"
      },
      "id": "DmkQydhJS5gi",
      "execution_count": 32,
      "outputs": [
        {
          "output_type": "stream",
          "name": "stdout",
          "text": [
            "sequence: QSJNONJH\n",
            "hmm pred: 00000011\n",
            "[[1.         0.        ]\n",
            " [1.         0.        ]\n",
            " [0.68181277 0.31818723]\n",
            " [1.         0.        ]\n",
            " [1.         0.        ]\n",
            " [1.         0.        ]\n",
            " [0.41454518 0.58545482]\n",
            " [0.10091589 0.89908411]]\n"
          ]
        }
      ]
    }
  ],
  "metadata": {
    "colab": {
      "collapsed_sections": [],
      "name": "Projeto2_HMM.ipynb",
      "provenance": []
    },
    "kernelspec": {
      "display_name": "Python 3 (ipykernel)",
      "language": "python",
      "name": "python3"
    },
    "language_info": {
      "codemirror_mode": {
        "name": "ipython",
        "version": 3
      },
      "file_extension": ".py",
      "mimetype": "text/x-python",
      "name": "python",
      "nbconvert_exporter": "python",
      "pygments_lexer": "ipython3",
      "version": "3.9.12"
    }
  },
  "nbformat": 4,
  "nbformat_minor": 5
}